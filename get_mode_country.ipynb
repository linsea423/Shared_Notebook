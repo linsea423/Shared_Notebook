{
 "cells": [
  {
   "cell_type": "code",
   "execution_count": 16,
   "metadata": {},
   "outputs": [],
   "source": [
    "import findspark\n",
    "findspark.init()\n",
    "\n",
    "from pyspark.sql import *\n",
    "import pyspark.sql.functions as F\n",
    "from pyspark.sql.window import Window\n",
    "\n",
    "import numpy as np\n",
    "import pandas as pd"
   ]
  },
  {
   "cell_type": "code",
   "execution_count": 11,
   "metadata": {},
   "outputs": [],
   "source": [
    "import sys\n",
    "import os\n",
    "\n",
    "#Need to set environment variables in order to make pyspark work in Python3.6\n",
    "spark_home=os.environ['SPARK_HOME']\n",
    "os.environ['PYTHONPATH']= spark_home+\"/python/lib/py4j-0.10.4-src.zip\"\n",
    "os.environ['PYSPARK_PYTHON']=\"/dfm0/util/dfm_python/python36/bin/python3.6\"\n",
    "os.environ['PYSPARK_DRIVER_PYTHON']=\"/dfm0/util/dfm_python/python36/bin/python3.6\"\n",
    "\n",
    "super_dir='/dfm1/lijli06/DFM_SPARK'"
   ]
  },
  {
   "cell_type": "code",
   "execution_count": 12,
   "metadata": {},
   "outputs": [],
   "source": [
    "spark = SparkSession.builder \\\n",
    "            .master(\"yarn\") \\\n",
    "            .appName('get_mode_country_linhai') \\\n",
    "            .config(\"spark.executor.instances\", 6) \\\n",
    "            .config(\"spark.executor.cores\",5) \\\n",
    "            .config(\"spark.executor.memory\",'29G') \\\n",
    "            .config(\"spark.submit.deployMode\",'client') \\\n",
    "            .config(\"spark.executorEnv.PYTHONHASHSEED\", 123) \\\n",
    "            .getOrCreate()"
   ]
  },
  {
   "cell_type": "code",
   "execution_count": 40,
   "metadata": {},
   "outputs": [],
   "source": [
    "tmp_paths = \"hdfs://dfm-cluster/DFM/sysauditlog/2018/08/*/sysauditlog.avro\""
   ]
  },
  {
   "cell_type": "code",
   "execution_count": 41,
   "metadata": {},
   "outputs": [],
   "source": [
    "special_orgs = ['HSBCME', 'REVWORDWIDE', 'SEBCREDIT', 'SEBDEBIT', 'SEBCORPDEBIT']\n",
    "orgs = pd.read_csv('/dfm1/lijli06/DFM_SPARK/jobs/HSBC_Group.txt',header=0)"
   ]
  },
  {
   "cell_type": "code",
   "execution_count": 43,
   "metadata": {},
   "outputs": [],
   "source": [
    "spark_df = spark.read.format(\"com.databricks.spark.avro\").load(tmp_paths)\n",
    "# spark_df = spark_df.filter(spark_df.ORGNAME.isin(special_orgs)).select('ORGNAME', 'FIBIN', 'COUNTRY')\n",
    "spark_df = spark_df.filter(spark_df.ORGNAME.isin(orgs['ORGNAME'].tolist()) & (spark_df.ISSUERCOUNTRY != '') & (spark_df.ISSUERCOUNTRY.isNotNull()))\n",
    "spark_df = spark_df.select('ORGNAME', 'COUNTRYISOCODE')"
   ]
  },
  {
   "cell_type": "code",
   "execution_count": 44,
   "metadata": {},
   "outputs": [],
   "source": [
    "bin_country = spark_df.rdd.map(lambda x: ((x.ORGNAME, x.COUNTRYISOCODE),1)).reduceByKey(lambda x,y: x+y) \\\n",
    "                      .map(lambda x: (x[0][0], [x[0][1], x[1]])).reduceByKey(lambda x,y: x if x[1]>y[1] else y) \\\n",
    "                      .map(lambda x: [x[0], x[1][0]]).collect()"
   ]
  },
  {
   "cell_type": "code",
   "execution_count": null,
   "metadata": {
    "scrolled": false
   },
   "outputs": [],
   "source": [
    "bin_country_df = pd.DataFrame(bin_country, columns=['ORGNAME','ISSUERCOUNTRY'])\n",
    "bin_country_df"
   ]
  },
  {
   "cell_type": "code",
   "execution_count": 46,
   "metadata": {},
   "outputs": [],
   "source": [
    "ccodes = pd.read_csv(\"/dfm1/lijli06/DFM_SPARK/extn_hashes/country_codes.csv\", header=0, keep_default_na=False)"
   ]
  },
  {
   "cell_type": "code",
   "execution_count": 47,
   "metadata": {},
   "outputs": [],
   "source": [
    "for idx,row in bin_country_df.iterrows():\n",
    "    isocode = row['ISSUERCOUNTRY']\n",
    "    country = ccodes.loc[ccodes['alpha-2']==isocode, 'name'].tolist()\n",
    "    if len(country)>0:\n",
    "        bin_country_df.loc[idx, 'ISSUERCOUNTRY'] = country[0]\n",
    "    else:\n",
    "        print(\"{} not found\".format(isocode))"
   ]
  },
  {
   "cell_type": "code",
   "execution_count": 66,
   "metadata": {},
   "outputs": [],
   "source": [
    "spark.stop()"
   ]
  }
 ],
 "metadata": {
  "kernelspec": {
   "display_name": "Python 3",
   "language": "python",
   "name": "python3"
  },
  "language_info": {
   "codemirror_mode": {
    "name": "ipython",
    "version": 3
   },
   "file_extension": ".py",
   "mimetype": "text/x-python",
   "name": "python",
   "nbconvert_exporter": "python",
   "pygments_lexer": "ipython3",
   "version": "3.6.5"
  }
 },
 "nbformat": 4,
 "nbformat_minor": 2
}
