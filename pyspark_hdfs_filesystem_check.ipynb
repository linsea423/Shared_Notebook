{
 "cells": [
  {
   "cell_type": "code",
   "execution_count": 4,
   "metadata": {},
   "outputs": [],
   "source": [
    "import findspark\n",
    "findspark.init()\n",
    "\n",
    "from pyspark.sql import SparkSession"
   ]
  },
  {
   "cell_type": "code",
   "execution_count": 5,
   "metadata": {},
   "outputs": [],
   "source": [
    "spark = SparkSession.builder \\\n",
    "            .master(\"yarn\") \\\n",
    "            .appName(\"HDFS_Filesystem_Test\") \\\n",
    "            .config(\"spark.executor.instances\", 8) \\\n",
    "            .config(\"spark.executor.cores\",5) \\\n",
    "            .config(\"spark.executor.memory\",'29G') \\\n",
    "            .config(\"spark.submit.deployMode\",'client') \\\n",
    "            .getOrCreate()"
   ]
  },
  {
   "cell_type": "code",
   "execution_count": 6,
   "metadata": {},
   "outputs": [],
   "source": [
    "sc            = spark.sparkContext\n",
    "URI           = sc._gateway.jvm.java.net.URI\n",
    "Path          = sc._gateway.jvm.org.apache.hadoop.fs.Path\n",
    "FileSystem    = sc._gateway.jvm.org.apache.hadoop.fs.FileSystem\n",
    "FileUtil      = sc._gateway.jvm.org.apache.hadoop.fs.FileUtil\n",
    "Configuration = sc._gateway.jvm.org.apache.hadoop.conf.Configuration\n",
    "fs            = FileSystem.get(URI(\"hdfs://dfm-cluster\"), Configuration())"
   ]
  },
  {
   "cell_type": "code",
   "execution_count": 7,
   "metadata": {},
   "outputs": [
    {
     "data": {
      "text/plain": [
       "'DFS[DFSClient[clientName=DFSClient_NONMAPREDUCE_-1583423564_27, ugi=lijli06 (auth:SIMPLE)]]'"
      ]
     },
     "execution_count": 7,
     "metadata": {},
     "output_type": "execute_result"
    }
   ],
   "source": [
    "str(fs)"
   ]
  },
  {
   "cell_type": "code",
   "execution_count": 8,
   "metadata": {},
   "outputs": [],
   "source": [
    "path = \"hdfs://dfm-cluster/DFM/aracslog/*/2018/07/01/aracslog.avro\"\n",
    "# path = \"hdfs://dfm-cluster/DFM/sysauditlog/2018/07/01/sysauditlog.avro\"\n",
    "# path = \"hdfs://dfm-cluster/DFM/dsptranslog/2018/07/15/dsptranslog*.avro\"\n",
    "status = fs.globStatus(Path(path))"
   ]
  },
  {
   "cell_type": "code",
   "execution_count": 9,
   "metadata": {},
   "outputs": [
    {
     "data": {
      "text/plain": [
       "6"
      ]
     },
     "execution_count": 9,
     "metadata": {},
     "output_type": "execute_result"
    }
   ],
   "source": [
    "len(status)"
   ]
  },
  {
   "cell_type": "code",
   "execution_count": 10,
   "metadata": {},
   "outputs": [
    {
     "data": {
      "text/plain": [
       "['FileStatus{path=hdfs://dfm-cluster/DFM/aracslog/ARCOT/2018/07/01/aracslog.avro; isDirectory=false; length=16374982; replication=3; blocksize=134217728; modification_time=1531185834981; access_time=1538679388402; owner=hadoop; group=dfmusrgrp; permission=rw-r-----; isSymlink=false}',\n",
       " 'FileStatus{path=hdfs://dfm-cluster/DFM/aracslog/SECS2/2018/07/01/aracslog.avro; isDirectory=false; length=23780164; replication=3; blocksize=134217728; modification_time=1531184961620; access_time=1538679388402; owner=hadoop; group=dfmusrgrp; permission=rw-r-----; isSymlink=false}',\n",
       " 'FileStatus{path=hdfs://dfm-cluster/DFM/aracslog/SECS4/2018/07/01/aracslog.avro; isDirectory=false; length=552163368; replication=3; blocksize=134217728; modification_time=1531185157506; access_time=1538679388402; owner=hadoop; group=dfmusrgrp; permission=rw-r-----; isSymlink=false}',\n",
       " 'FileStatus{path=hdfs://dfm-cluster/DFM/aracslog/SECS5/2018/07/01/aracslog.avro; isDirectory=false; length=923902186; replication=3; blocksize=134217728; modification_time=1531185470307; access_time=1538679388414; owner=hadoop; group=dfmusrgrp; permission=rw-r-----; isSymlink=false}',\n",
       " 'FileStatus{path=hdfs://dfm-cluster/DFM/aracslog/SECS7/2018/07/01/aracslog.avro; isDirectory=false; length=471877491; replication=3; blocksize=134217728; modification_time=1531185681399; access_time=1538679388404; owner=hadoop; group=dfmusrgrp; permission=rw-r-----; isSymlink=false}',\n",
       " 'FileStatus{path=hdfs://dfm-cluster/DFM/aracslog/TSYS/2018/07/01/aracslog.avro; isDirectory=false; length=126044222; replication=3; blocksize=134217728; modification_time=1531185790321; access_time=1538679388405; owner=hadoop; group=dfmusrgrp; permission=rw-r-----; isSymlink=false}']"
      ]
     },
     "execution_count": 10,
     "metadata": {},
     "output_type": "execute_result"
    }
   ],
   "source": [
    "list(map(str, status))"
   ]
  },
  {
   "cell_type": "code",
   "execution_count": 11,
   "metadata": {},
   "outputs": [],
   "source": [
    "allPath = FileUtil.stat2Paths(status)"
   ]
  },
  {
   "cell_type": "code",
   "execution_count": 12,
   "metadata": {},
   "outputs": [
    {
     "data": {
      "text/plain": [
       "False"
      ]
     },
     "execution_count": 12,
     "metadata": {},
     "output_type": "execute_result"
    }
   ],
   "source": [
    "allPath == None"
   ]
  },
  {
   "cell_type": "code",
   "execution_count": 13,
   "metadata": {},
   "outputs": [
    {
     "data": {
      "text/plain": [
       "['hdfs://dfm-cluster/DFM/aracslog/ARCOT/2018/07/01/aracslog.avro',\n",
       " 'hdfs://dfm-cluster/DFM/aracslog/SECS2/2018/07/01/aracslog.avro',\n",
       " 'hdfs://dfm-cluster/DFM/aracslog/SECS4/2018/07/01/aracslog.avro',\n",
       " 'hdfs://dfm-cluster/DFM/aracslog/SECS5/2018/07/01/aracslog.avro',\n",
       " 'hdfs://dfm-cluster/DFM/aracslog/SECS7/2018/07/01/aracslog.avro',\n",
       " 'hdfs://dfm-cluster/DFM/aracslog/TSYS/2018/07/01/aracslog.avro']"
      ]
     },
     "execution_count": 13,
     "metadata": {},
     "output_type": "execute_result"
    }
   ],
   "source": [
    "allPaths = list(map(str, allPath))\n",
    "allPaths"
   ]
  },
  {
   "cell_type": "code",
   "execution_count": 14,
   "metadata": {},
   "outputs": [
    {
     "data": {
      "text/plain": [
       "False"
      ]
     },
     "execution_count": 14,
     "metadata": {},
     "output_type": "execute_result"
    }
   ],
   "source": [
    "allPaths[0]==path"
   ]
  },
  {
   "cell_type": "code",
   "execution_count": 15,
   "metadata": {},
   "outputs": [],
   "source": [
    "get_silo = lambda x: x.split(x.split('/')[-1].split('.')[0])[1].split('/')[1]"
   ]
  },
  {
   "cell_type": "code",
   "execution_count": 16,
   "metadata": {},
   "outputs": [
    {
     "data": {
      "text/plain": [
       "{'ARCOT', 'SECS2', 'SECS4', 'SECS5', 'SECS7', 'TSYS'}"
      ]
     },
     "execution_count": 16,
     "metadata": {},
     "output_type": "execute_result"
    }
   ],
   "source": [
    "{get_silo(p) for p in allPaths}"
   ]
  },
  {
   "cell_type": "code",
   "execution_count": 17,
   "metadata": {},
   "outputs": [],
   "source": [
    "spark.stop()"
   ]
  }
 ],
 "metadata": {
  "kernelspec": {
   "display_name": "Python 3",
   "language": "python",
   "name": "python3"
  },
  "language_info": {
   "codemirror_mode": {
    "name": "ipython",
    "version": 3
   },
   "file_extension": ".py",
   "mimetype": "text/x-python",
   "name": "python",
   "nbconvert_exporter": "python",
   "pygments_lexer": "ipython3",
   "version": "3.6.5"
  }
 },
 "nbformat": 4,
 "nbformat_minor": 2
}
