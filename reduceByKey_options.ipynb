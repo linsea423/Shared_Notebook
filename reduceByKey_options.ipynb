{
 "cells": [
  {
   "cell_type": "code",
   "execution_count": 1,
   "metadata": {},
   "outputs": [],
   "source": [
    "import findspark\n",
    "findspark.init()\n",
    "\n",
    "from pyspark.sql.types import *\n",
    "import pyspark.sql.functions as F\n",
    "from pyspark.sql import *\n",
    "from pyspark.sql.window import Window\n",
    "\n",
    "import pickle\n",
    "from datetime import datetime, timedelta, date\n",
    "from time import time, sleep\n",
    "from dateutil.relativedelta import relativedelta\n",
    "import pandas as pd\n",
    "import numpy as np\n",
    "\n",
    "import matplotlib.pyplot as plt\n",
    "\n",
    "%matplotlib inline"
   ]
  },
  {
   "cell_type": "code",
   "execution_count": 2,
   "metadata": {},
   "outputs": [],
   "source": [
    "import sys\n",
    "import os\n",
    "\n",
    "#Need to set environment variables in order to make pyspark work in Python3.6\n",
    "spark_home=os.environ['SPARK_HOME']\n",
    "os.environ['PYTHONPATH']= spark_home+\"/python/lib/py4j-0.10.4-src.zip\"\n",
    "os.environ['PYSPARK_PYTHON']=\"/dfm0/util/dfm_python/python36/bin/python3.6\"\n",
    "os.environ['PYSPARK_DRIVER_PYTHON']=\"/dfm0/util/dfm_python/python36/bin/python3.6\"\n",
    "\n",
    "super_dir='/dfm1/lijli06/DFM_SPARK'"
   ]
  },
  {
   "cell_type": "code",
   "execution_count": 3,
   "metadata": {},
   "outputs": [],
   "source": [
    "def launch_spark(appName):\n",
    "    spark = SparkSession.builder \\\n",
    "                .master(\"yarn\") \\\n",
    "                .appName(appName) \\\n",
    "                .config(\"spark.executor.instances\", 5) \\\n",
    "                .config(\"spark.executor.cores\",5) \\\n",
    "                .config(\"spark.executor.memory\",'29G') \\\n",
    "                .config(\"spark.submit.deployMode\",'client') \\\n",
    "                .config(\"spark.executorEnv.PYTHONHASHSEED\", 123) \\\n",
    "                .getOrCreate()\n",
    "    return spark"
   ]
  },
  {
   "cell_type": "code",
   "execution_count": 4,
   "metadata": {},
   "outputs": [],
   "source": [
    "start_date=\"2018-07-01\"\n",
    "end_date=\"2018-07-31\"\n",
    "log_label=\"sysauditlog\"\n",
    "\n",
    "#convert the dates from string to date objects\n",
    "start_date1 = datetime.strptime(start_date, '%Y-%m-%d').date()\n",
    "end_date1 = datetime.strptime(end_date, '%Y-%m-%d').date()\n",
    "\n",
    "#Get the paths to the hdfs files; end date may be extended one day later\n",
    "tmp_paths = []\n",
    "\n",
    "if log_label in ['aracslog', 'arvelog', 'areslog', 'aracsstat']:\n",
    "    path_label = log_label + '/*'\n",
    "else:\n",
    "    path_label = log_label\n",
    "\n",
    "date_delta = end_date1 - start_date1\n",
    "path_dates = [start_date1+relativedelta(days=i) for i in range(date_delta.days+1)]\n",
    "for path_date in path_dates:\n",
    "    tmp_path = \"hdfs://dfm-cluster/DFM/\"+path_label+\"/\" \\\n",
    "                +\"/\".join(path_date.strftime(\"%Y-%m-%d\").split(\"-\")) \\\n",
    "                +\"/\"+log_label+\"*.avro\"\n",
    "    tmp_paths.append(tmp_path)\n",
    "    \n",
    "orgs = pd.read_csv('/dfm1/lijli06/DFM_SPARK/HSBC_Group.txt',header=0)\n",
    "orgs = orgs['ORGNAME'].tolist()"
   ]
  },
  {
   "cell_type": "code",
   "execution_count": 9,
   "metadata": {},
   "outputs": [
    {
     "name": "stdout",
     "output_type": "stream",
     "text": [
      "Used time of 445.64 sec\n",
      "Used time of 452.75 sec\n"
     ]
    }
   ],
   "source": [
    "time_org = []\n",
    "for i in range(2):\n",
    "    spark = launch_spark(\"partition_test_none_{}\".format(i))\n",
    "    start = time()\n",
    "    spark_df = spark.read.format(\"com.databricks.spark.avro\").load(tmp_paths)\n",
    "    spark_df = spark_df.withColumn('DATE', F.to_date('DATELOGGED'))    \n",
    "    spark_df = spark_df.filter(spark_df.ORGNAME.isin(orgs))\n",
    "    tmp_list = spark_df.rdd.map(lambda x: ((x.DATE, x.ORGNAME, x.CALLERID),1)).reduceByKey(lambda x,y: 1) \\\n",
    "                           .map(lambda x: ((x[0][0], x[0][1]),1)).reduceByKey(lambda x,y: x+y) \\\n",
    "                           .map(lambda x: [x[0][0], x[0][1], x[1]]).collect()\n",
    "    end = time()\n",
    "    time_org.append(end-start)\n",
    "    print('Used time of {:.2f} sec'.format(end-start))\n",
    "    spark.stop()\n",
    "    sleep(10)"
   ]
  },
  {
   "cell_type": "code",
   "execution_count": 10,
   "metadata": {},
   "outputs": [
    {
     "name": "stdout",
     "output_type": "stream",
     "text": [
      "Used time of 204.09 sec\n",
      "Used time of 330.30 sec\n"
     ]
    }
   ],
   "source": [
    "time_coalesce = []\n",
    "for i in range(2):\n",
    "    spark = launch_spark(\"partition_test_coalesce_{}\".format(i))\n",
    "    start = time()\n",
    "    spark_df = spark.read.format(\"com.databricks.spark.avro\").load(tmp_paths)\n",
    "    spark_df = spark_df.withColumn('DATE', F.to_date('DATELOGGED'))    \n",
    "    spark_df = spark_df.filter(spark_df.ORGNAME.isin(orgs))\n",
    "    tmp_list = spark_df.rdd.coalesce(200) \\\n",
    "                           .map(lambda x: ((x.DATE, x.ORGNAME, x.CALLERID),1)).reduceByKey(lambda x,y: 1) \\\n",
    "                           .map(lambda x: ((x[0][0], x[0][1]),1)).reduceByKey(lambda x,y: x+y) \\\n",
    "                           .map(lambda x: [x[0][0], x[0][1], x[1]]).collect()\n",
    "    end = time()\n",
    "    time_coalesce.append(end-start)\n",
    "    print('Used time of {:.2f} sec'.format(end-start))\n",
    "    spark.stop()\n",
    "    sleep(10)"
   ]
  },
  {
   "cell_type": "code",
   "execution_count": 5,
   "metadata": {},
   "outputs": [],
   "source": [
    "def key_partitioner(keys):\n",
    "    return hash(keys)"
   ]
  },
  {
   "cell_type": "code",
   "execution_count": 12,
   "metadata": {},
   "outputs": [
    {
     "name": "stdout",
     "output_type": "stream",
     "text": [
      "Used time of 510.20 sec\n",
      "Used time of 432.26 sec\n"
     ]
    }
   ],
   "source": [
    "time_partition = []\n",
    "for i in range(2):\n",
    "    spark = launch_spark(\"partition_test_partition_{}\".format(i))\n",
    "    start = time()\n",
    "    spark_df = spark.read.format(\"com.databricks.spark.avro\").load(tmp_paths)\n",
    "    spark_df = spark_df.withColumn('DATE', F.to_date('DATELOGGED'))    \n",
    "    spark_df = spark_df.filter(spark_df.ORGNAME.isin(orgs))\n",
    "    spark_df = spark_df.repartition(200, 'DATE')\n",
    "    tmp_list = spark_df.rdd.map(lambda x: ((x.DATE, x.ORGNAME, x.CALLERID),1)) \\\n",
    "                           .reduceByKey(lambda x,y: 1) \\\n",
    "                           .map(lambda x: ((x[0][0], x[0][1]),1)).reduceByKey(lambda x,y: x+y) \\\n",
    "                           .map(lambda x: [x[0][0], x[0][1], x[1]]).collect()\n",
    "    end = time()\n",
    "    time_partition.append(end-start)\n",
    "    print('Used time of {:.2f} sec'.format(end-start))\n",
    "    spark.stop()\n",
    "    sleep(10)"
   ]
  },
  {
   "cell_type": "code",
   "execution_count": 6,
   "metadata": {
    "scrolled": false
   },
   "outputs": [
    {
     "name": "stdout",
     "output_type": "stream",
     "text": [
      "Used time of 867.68 sec\n",
      "Used time of 723.42 sec\n"
     ]
    }
   ],
   "source": [
    "time_mapred_part1 = []\n",
    "for i in range(2):\n",
    "    spark = launch_spark(\"partition_test_mapred1_{}\".format(i))\n",
    "    start = time()\n",
    "    spark_df = spark.read.format(\"com.databricks.spark.avro\").load(tmp_paths)\n",
    "    spark_df = spark_df.withColumn('DATE', F.to_date('DATELOGGED'))    \n",
    "    spark_df = spark_df.filter(spark_df.ORGNAME.isin(orgs))\n",
    "    tmp_list = spark_df.rdd.map(lambda x: ((x.DATE, x.ORGNAME, x.CALLERID),1), True) \\\n",
    "                           .reduceByKey(lambda x,y: 1, 200) \\\n",
    "                           .map(lambda x: ((x[0][0], x[0][1]),1)).reduceByKey(lambda x,y: x+y, 200) \\\n",
    "                           .map(lambda x: [x[0][0], x[0][1], x[1]]).collect()\n",
    "    end = time()\n",
    "    time_mapred_part1.append(end-start)\n",
    "    print('Used time of {:.2f} sec'.format(end-start))\n",
    "    spark.stop()\n",
    "    sleep(10)"
   ]
  },
  {
   "cell_type": "code",
   "execution_count": null,
   "metadata": {
    "scrolled": false
   },
   "outputs": [],
   "source": [
    "time_mapred_part2 = []\n",
    "for i in range(2):\n",
    "    spark = launch_spark(\"partition_test_mapred2_{}\".format(i))\n",
    "    start = time()\n",
    "    spark_df = spark.read.format(\"com.databricks.spark.avro\").load(tmp_paths)\n",
    "    spark_df = spark_df.withColumn('DATE', F.to_date('DATELOGGED'))    \n",
    "    spark_df = spark_df.filter(spark_df.ORGNAME.isin(orgs))\n",
    "    tmp_list = spark_df.rdd.map(lambda x: ((x.DATE, x.ORGNAME, x.CALLERID),1)) \\\n",
    "                           .reduceByKey(lambda x,y: 1, 200, key_partitioner) \\\n",
    "                           .map(lambda x: ((x[0][0], x[0][1]),1)).reduceByKey(lambda x,y: x+y, 200, key_partitioner) \\\n",
    "                           .map(lambda x: [x[0][0], x[0][1], x[1]]).collect()\n",
    "    end = time()\n",
    "    time_mapred_part2.append(end-start)\n",
    "    print('Used time of {:.2f} sec'.format(end-start))\n",
    "    spark.stop()\n",
    "    sleep(10)"
   ]
  },
  {
   "cell_type": "code",
   "execution_count": null,
   "metadata": {},
   "outputs": [],
   "source": [
    "time_mapred_part3 = []\n",
    "for i in range(2):\n",
    "    spark = launch_spark(\"partition_test_mapred3_{}\".format(i))\n",
    "    start = time()\n",
    "    spark_df = spark.read.format(\"com.databricks.spark.avro\").load(tmp_paths)\n",
    "    spark_df = spark_df.withColumn('DATE', F.to_date('DATELOGGED'))    \n",
    "    spark_df = spark_df.filter(spark_df.ORGNAME.isin(orgs))\n",
    "    tmp_list = spark_df.rdd.coalesce(200).map(lambda x: ((x.DATE, x.ORGNAME, x.CALLERID),1)) \\\n",
    "                           .reduceByKey(lambda x,y: 1, 200, key_partitioner) \\\n",
    "                           .map(lambda x: ((x[0][0], x[0][1]),1)).reduceByKey(lambda x,y: x+y, 200, key_partitioner) \\\n",
    "                           .map(lambda x: [x[0][0], x[0][1], x[1]]).collect()\n",
    "    end = time()\n",
    "    time_mapred_part3.append(end-start)\n",
    "    print('Used time of {:.2f} sec'.format(end-start))\n",
    "    spark.stop()\n",
    "    sleep(10)"
   ]
  },
  {
   "cell_type": "code",
   "execution_count": 14,
   "metadata": {},
   "outputs": [],
   "source": [
    "spark.stop()"
   ]
  }
 ],
 "metadata": {
  "kernelspec": {
   "display_name": "Python 3",
   "language": "python",
   "name": "python3"
  },
  "language_info": {
   "codemirror_mode": {
    "name": "ipython",
    "version": 3
   },
   "file_extension": ".py",
   "mimetype": "text/x-python",
   "name": "python",
   "nbconvert_exporter": "python",
   "pygments_lexer": "ipython3",
   "version": "3.6.5"
  }
 },
 "nbformat": 4,
 "nbformat_minor": 2
}
