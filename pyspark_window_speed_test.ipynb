{
 "cells": [
  {
   "cell_type": "code",
   "execution_count": 26,
   "metadata": {},
   "outputs": [],
   "source": [
    "import findspark\n",
    "findspark.init()\n",
    "\n",
    "from pyspark.sql.types import *\n",
    "import pyspark.sql.functions as F\n",
    "from pyspark.sql import *\n",
    "from pyspark.sql.window import Window\n",
    "\n",
    "import pickle\n",
    "from datetime import datetime, timedelta, date\n",
    "from time import time\n",
    "from dateutil.relativedelta import relativedelta\n",
    "import pandas as pd\n",
    "import numpy as np\n",
    "\n",
    "import matplotlib.pyplot as plt\n",
    "\n",
    "%matplotlib inline"
   ]
  },
  {
   "cell_type": "code",
   "execution_count": 2,
   "metadata": {},
   "outputs": [],
   "source": [
    "import sys\n",
    "import os\n",
    "\n",
    "#Need to set environment variables in order to make pyspark work in Python3.6\n",
    "spark_home=os.environ['SPARK_HOME']\n",
    "os.environ['PYTHONPATH']= spark_home+\"/python/lib/py4j-0.10.4-src.zip\"\n",
    "os.environ['PYSPARK_PYTHON']=\"/dfm0/util/dfm_python/python36/bin/python3.6\"\n",
    "os.environ['PYSPARK_DRIVER_PYTHON']=\"/dfm0/util/dfm_python/python36/bin/python3.6\"\n",
    "\n",
    "super_dir='/dfm1/lijli06/DFM_SPARK'"
   ]
  },
  {
   "cell_type": "code",
   "execution_count": 3,
   "metadata": {},
   "outputs": [],
   "source": [
    "spark = SparkSession.builder \\\n",
    "            .master(\"yarn\") \\\n",
    "            .appName(\"data_exploration_linhai\") \\\n",
    "            .config(\"spark.executor.instances\", 17) \\\n",
    "            .config(\"spark.executor.cores\",5) \\\n",
    "            .config(\"spark.executor.memory\",'29G') \\\n",
    "            .config(\"spark.submit.deployMode\",'client') \\\n",
    "            .getOrCreate()"
   ]
  },
  {
   "cell_type": "code",
   "execution_count": 4,
   "metadata": {},
   "outputs": [],
   "source": [
    "start_date=\"2018-07-01\"\n",
    "end_date=\"2018-07-07\"\n",
    "log_label=\"sysauditlog\"\n",
    "\n",
    "#convert the dates from string to date objects\n",
    "start_date1 = datetime.strptime(start_date, '%Y-%m-%d').date()\n",
    "end_date1 = datetime.strptime(end_date, '%Y-%m-%d').date()\n",
    "\n",
    "#Get the paths to the hdfs files; end date may be extended one day later\n",
    "tmp_paths = []\n",
    "\n",
    "if log_label in ['aracslog', 'arvelog', 'areslog', 'aracsstat']:\n",
    "    path_label = log_label + '/*'\n",
    "else:\n",
    "    path_label = log_label\n",
    "\n",
    "date_delta = end_date1 - start_date1\n",
    "path_dates = [start_date1+relativedelta(days=i) for i in range(date_delta.days+1)]\n",
    "for path_date in path_dates:\n",
    "    tmp_path = \"hdfs://dfm-cluster/DFM/\"+path_label+\"/\" \\\n",
    "                +\"/\".join(path_date.strftime(\"%Y-%m-%d\").split(\"-\")) \\\n",
    "                +\"/\"+log_label+\".avro\"\n",
    "    tmp_paths.append(tmp_path)\n",
    "\n",
    "tmp_df=spark.read.format(\"com.databricks.spark.avro\").load(tmp_paths)\n",
    "        \n",
    "#tmp_df.columns"
   ]
  },
  {
   "cell_type": "code",
   "execution_count": 5,
   "metadata": {},
   "outputs": [],
   "source": [
    "orgs = pd.read_csv('/dfm1/lijli06/DFM_SPARK/HSBC_Group.txt',header=0)\n",
    "tmp_df = tmp_df.filter(tmp_df.ORGNAME.isin(orgs['ORGNAME'].tolist()) & (tmp_df.ISSUERCOUNTRY != '') & (tmp_df.ISSUERCOUNTRY.isNotNull()))\n",
    "tmp_df = tmp_df.select('ORGNAME', 'USERNAME', 'ISSUERCOUNTRY', 'AMOUNTUSD')\n",
    "# tmp_df.take(1)"
   ]
  },
  {
   "cell_type": "code",
   "execution_count": 6,
   "metadata": {},
   "outputs": [
    {
     "name": "stdout",
     "output_type": "stream",
     "text": [
      "Used time of 36.15 sec\n",
      "Used time of 27.82 sec\n",
      "Used time of 77.77 sec\n",
      "Used time of 26.25 sec\n",
      "Used time of 38.33 sec\n",
      "Used time of 25.40 sec\n",
      "Used time of 25.97 sec\n",
      "Used time of 24.57 sec\n",
      "Used time of 75.25 sec\n",
      "Used time of 27.27 sec\n"
     ]
    }
   ],
   "source": [
    "#Calculate the median AMOUNTUSD using high level api\n",
    "med1_time = []\n",
    "for i in range(10):\n",
    "    start = time()\n",
    "    agg_func = F.expr('percentile_approx({}, 0.5, 500)'.format('AMOUNTUSD'))\n",
    "    tmp_list = tmp_df.groupby('ORGNAME').pivot('ISSUERCOUNTRY').agg(agg_func).fillna(0)\n",
    "    columns = tmp_list.columns\n",
    "    tmp_list = tmp_list.rdd.map(list).collect()\n",
    "    result = pd.DataFrame(tmp_list, columns=columns)\n",
    "    end = time()\n",
    "    print(\"Used time of {:.2f} sec\".format(end - start))\n",
    "    med1_time.append(end-start)\n",
    "    #result"
   ]
  },
  {
   "cell_type": "code",
   "execution_count": 7,
   "metadata": {},
   "outputs": [
    {
     "name": "stdout",
     "output_type": "stream",
     "text": [
      "Used time of 147.32 sec\n",
      "Used time of 169.31 sec\n",
      "Used time of 156.49 sec\n",
      "Used time of 224.43 sec\n",
      "Used time of 69.49 sec\n",
      "Used time of 145.10 sec\n",
      "Used time of 144.03 sec\n",
      "Used time of 69.92 sec\n",
      "Used time of 143.44 sec\n",
      "Used time of 143.15 sec\n"
     ]
    }
   ],
   "source": [
    "#Calculate the median AMOUNTUSD using low level api\n",
    "med2_time = []\n",
    "for i in range(10):\n",
    "    start = time()\n",
    "    tmp_list = tmp_df.rdd.map(lambda x: ((x.ORGNAME, x.ISSUERCOUNTRY), x.AMOUNTUSD)) \\\n",
    "                     .combineByKey(lambda x: [x], lambda x,y: x+[y], lambda x,y: x+y) \\\n",
    "                     .mapValues(lambda x: np.median(x)).map(lambda x: [x[0][0], x[0][1], x[1]]).collect()\n",
    "    result = pd.DataFrame(tmp_list, columns=['ORGNAME', 'ISSUERCOUNTRY', 'Value'])\n",
    "    result = pd.pivot_table(result, index='ORGNAME', columns='ISSUERCOUNTRY', values='Value', fill_value=0).reset_index()\n",
    "    end = time()\n",
    "    print(\"Used time of {:.2f} sec\".format(end - start))\n",
    "    med2_time.append(end-start)\n",
    "    #result"
   ]
  },
  {
   "cell_type": "code",
   "execution_count": 8,
   "metadata": {},
   "outputs": [
    {
     "name": "stdout",
     "output_type": "stream",
     "text": [
      "Used time of 152.05 sec\n",
      "Used time of 151.23 sec\n",
      "Used time of 117.07 sec\n",
      "Used time of 193.54 sec\n",
      "Used time of 240.85 sec\n",
      "Used time of 138.35 sec\n",
      "Used time of 240.77 sec\n",
      "Used time of 115.72 sec\n",
      "Used time of 163.43 sec\n",
      "Used time of 146.62 sec\n"
     ]
    }
   ],
   "source": [
    "#Calculate the median AMOUNTUSD using window function\n",
    "med3_time = []\n",
    "for i in range(10):\n",
    "    start = time()\n",
    "    w = Window.partitionBy(['ORGNAME', 'ISSUERCOUNTRY']).orderBy('AMOUNTUSD')\n",
    "    df = tmp_df.withColumn('rn', F.row_number().over(w)).withColumn('MedIdx', F.count('rn').over(w.rowsBetween(Window.unboundedPreceding, Window.unboundedFollowing))/2)\n",
    "    df = df.withColumn('filter', F.when(F.ceil('MedIdx')==F.floor('MedIdx'), \\\n",
    "                                                    F.when((F.col('rn')==F.col('MedIdx')) | (F.col('rn')==F.col('MedIdx')), True).otherwise(False)) \\\n",
    "                                                    .otherwise(F.when(F.col('rn')==F.ceil('MedIdx'), True).otherwise(False)))\n",
    "    df = df.filter('filter').drop('rn', 'MedIdx', 'filter')\n",
    "    df = df.select('ORGNAME', 'ISSUERCOUNTRY', 'AMOUNTUSD').withColumn('Value', F.mean('AMOUNTUSD').over(w.rowsBetween(-2, 2))).withColumn('rn', F.row_number().over(w)).filter(F.col('rn') == 1).drop('rn')                      \n",
    "    tmp_list = df.rdd.map(lambda x: [x['ORGNAME'], x['ISSUERCOUNTRY'], x['Value']]).collect()\n",
    "    result = pd.DataFrame(tmp_list, columns=['ORGNAME', 'ISSUERCOUNTRY', 'Value'])\n",
    "    result = pd.pivot_table(result, index='ORGNAME', columns='ISSUERCOUNTRY', values='Value', fill_value=0).reset_index()\n",
    "    end = time()\n",
    "    print(\"Used time of {:.2f} sec\".format(end - start))\n",
    "    med3_time.append(end-start)\n",
    "    #result"
   ]
  },
  {
   "cell_type": "code",
   "execution_count": 10,
   "metadata": {},
   "outputs": [
    {
     "name": "stdout",
     "output_type": "stream",
     "text": [
      "Used time of 151.05 sec\n",
      "Used time of 189.39 sec\n",
      "Used time of 241.18 sec\n",
      "Used time of 163.47 sec\n",
      "Used time of 116.32 sec\n",
      "Used time of 241.26 sec\n",
      "Used time of 189.51 sec\n",
      "Used time of 137.81 sec\n",
      "Used time of 25.21 sec\n",
      "Used time of 141.87 sec\n"
     ]
    }
   ],
   "source": [
    "#Calculate the median AMOUNTUSD using window function + low level\n",
    "med4_time = []\n",
    "for i in range(10):\n",
    "    start = time()\n",
    "    w = Window.partitionBy(['ORGNAME', 'ISSUERCOUNTRY']).orderBy('AMOUNTUSD')\n",
    "    df = tmp_df.withColumn('rn', F.row_number().over(w)).withColumn('MedIdx', F.count('rn').over(w.rowsBetween(Window.unboundedPreceding, Window.unboundedFollowing))/2)\n",
    "    df = df.withColumn('filter', F.when(F.ceil('MedIdx')==F.floor('MedIdx'), \\\n",
    "                                                    F.when((F.col('rn')==F.col('MedIdx')) | (F.col('rn')==F.col('MedIdx')), True).otherwise(False)) \\\n",
    "                                                    .otherwise(F.when(F.col('rn')==F.ceil('MedIdx'), True).otherwise(False)))\n",
    "    df = df.filter('filter').drop('rn', 'MedIdx', 'filter')\n",
    "    tmp_list = df.rdd.map(lambda x: ((x.ORGNAME, x.ISSUERCOUNTRY), [x.AMOUNTUSD, 1])) \\\n",
    "                     .reduceByKey(lambda x,y: [x[0]+y[0], x[1]+y[1]]).mapValues(lambda x: x[0]/x[1]) \\\n",
    "                     .map(lambda x: [x[0][0], x[0][1], x[1]]).collect()\n",
    "    result = pd.DataFrame(tmp_list, columns=['ORGNAME', 'ISSUERCOUNTRY', 'Value'])\n",
    "    result = pd.pivot_table(result, index='ORGNAME', columns='ISSUERCOUNTRY', values='Value', fill_value=0).reset_index()\n",
    "    end = time()\n",
    "    print(\"Used time of {:.2f} sec\".format(end - start))\n",
    "    med4_time.append(end-start)\n",
    "    #result"
   ]
  },
  {
   "cell_type": "code",
   "execution_count": 11,
   "metadata": {},
   "outputs": [
    {
     "name": "stdout",
     "output_type": "stream",
     "text": [
      "Used time of 77.43 sec\n",
      "Used time of 26.72 sec\n",
      "Used time of 27.85 sec\n",
      "Used time of 28.09 sec\n",
      "Used time of 28.13 sec\n",
      "Used time of 26.23 sec\n",
      "Used time of 27.07 sec\n",
      "Used time of 26.68 sec\n",
      "Used time of 27.09 sec\n",
      "Used time of 28.19 sec\n"
     ]
    }
   ],
   "source": [
    "#Calculate the number of unique USERNAME using high level api\n",
    "uniq1_time = []\n",
    "for i in range(10):\n",
    "    start = time()\n",
    "    agg_func = F.countDistinct('USERNAME')\n",
    "    tmp_list = tmp_df.groupby('ORGNAME').pivot('ISSUERCOUNTRY').agg(agg_func).fillna(0)\n",
    "    columns = tmp_list.columns\n",
    "    tmp_list = tmp_list.rdd.map(list).collect()\n",
    "    result = pd.DataFrame(tmp_list, columns=columns)\n",
    "    end = time()\n",
    "    print(\"Used time of {:.2f} sec\".format(end - start))\n",
    "    uniq1_time.append(end-start)\n",
    "    #result"
   ]
  },
  {
   "cell_type": "code",
   "execution_count": 12,
   "metadata": {},
   "outputs": [
    {
     "name": "stdout",
     "output_type": "stream",
     "text": [
      "Used time of 59.18 sec\n",
      "Used time of 53.22 sec\n",
      "Used time of 50.84 sec\n",
      "Used time of 181.66 sec\n",
      "Used time of 60.64 sec\n",
      "Used time of 174.65 sec\n",
      "Used time of 54.20 sec\n",
      "Used time of 59.13 sec\n",
      "Used time of 51.54 sec\n",
      "Used time of 52.71 sec\n"
     ]
    }
   ],
   "source": [
    "#Calculate the number of unique USERNAME using low level api METHOD #1\n",
    "uniq2_time = []\n",
    "for i in range(10):\n",
    "    start = time()\n",
    "    tmp_list = tmp_df.rdd.map(lambda x: ((x.ORGNAME, x.ISSUERCOUNTRY), x.USERNAME)) \\\n",
    "                     .combineByKey(lambda x: {x}, lambda x,y: x.union({y}), lambda x,y: x.union(y)) \\\n",
    "                     .mapValues(lambda x: len(x)).map(lambda x: [x[0][0], x[0][1], x[1]]).collect()\n",
    "    result = pd.DataFrame(tmp_list, columns=['ORGNAME', 'ISSUERCOUNTRY', 'Value'])\n",
    "    result = pd.pivot_table(result, index='ORGNAME', columns='ISSUERCOUNTRY', values='Value', fill_value=0).reset_index()\n",
    "    end = time()\n",
    "    print(\"Used time of {:.2f} sec\".format(end - start))\n",
    "    uniq2_time.append(end-start)\n",
    "    #result"
   ]
  },
  {
   "cell_type": "code",
   "execution_count": 13,
   "metadata": {},
   "outputs": [
    {
     "name": "stdout",
     "output_type": "stream",
     "text": [
      "Used time of 21.45 sec\n",
      "Used time of 18.50 sec\n",
      "Used time of 18.66 sec\n",
      "Used time of 17.85 sec\n",
      "Used time of 22.26 sec\n",
      "Used time of 21.06 sec\n",
      "Used time of 18.33 sec\n",
      "Used time of 18.01 sec\n",
      "Used time of 16.41 sec\n",
      "Used time of 17.44 sec\n"
     ]
    }
   ],
   "source": [
    "#Calculate the number of unique USERNAME using low level api METHOD #2\n",
    "uniq3_time = []\n",
    "for i in range(10):\n",
    "    start = time()\n",
    "    tmp_list = tmp_df.rdd.map(lambda x: ((x.ORGNAME, x.ISSUERCOUNTRY, x.USERNAME), 1)) \\\n",
    "                     .reduceByKey(lambda x,y: 1).map(lambda x: ((x[0][0], x[0][1]),1)) \\\n",
    "                     .reduceByKey(lambda x,y: x+y).map(lambda x: [x[0][0], x[0][1], x[1]]).collect()\n",
    "    result = pd.DataFrame(tmp_list, columns=['ORGNAME', 'ISSUERCOUNTRY', 'Value'])\n",
    "    result = pd.pivot_table(result, index='ORGNAME', columns='ISSUERCOUNTRY', values='Value', fill_value=0).reset_index()\n",
    "    end = time()\n",
    "    print(\"Used time of {:.2f} sec\".format(end - start))\n",
    "    uniq3_time.append(end-start)\n",
    "    #result"
   ]
  },
  {
   "cell_type": "code",
   "execution_count": 14,
   "metadata": {
    "scrolled": false
   },
   "outputs": [
    {
     "name": "stdout",
     "output_type": "stream",
     "text": [
      "Used time of 16.64 sec\n",
      "Used time of 15.96 sec\n",
      "Used time of 18.02 sec\n",
      "Used time of 15.85 sec\n",
      "Used time of 15.85 sec\n",
      "Used time of 15.67 sec\n",
      "Used time of 15.91 sec\n",
      "Used time of 17.60 sec\n",
      "Used time of 15.86 sec\n",
      "Used time of 20.69 sec\n"
     ]
    }
   ],
   "source": [
    "#Calculate the number of unique USERNAME using window function\n",
    "uniq4_time = []\n",
    "for i in range(10):\n",
    "    start = time()\n",
    "    w = Window.partitionBy(['ORGNAME', 'ISSUERCOUNTRY', 'USERNAME']).orderBy('ORGNAME')\n",
    "    df = tmp_df.withColumn('rn', F.row_number().over(w)).filter(F.col('rn') == 1).drop('rn')\n",
    "    w = Window.partitionBy(['ORGNAME', 'ISSUERCOUNTRY']).orderBy('ORGNAME')\n",
    "    df = df.select('ORGNAME', 'ISSUERCOUNTRY').withColumn('Value', F.count('ORGNAME').over(w.rowsBetween(Window.unboundedPreceding, Window.unboundedFollowing))) \\\n",
    "                                              .withColumn('rn', F.row_number().over(w)).filter(F.col('rn') == 1).drop('rn')                      \n",
    "    tmp_list = df.rdd.map(lambda x: [x['ORGNAME'], x['ISSUERCOUNTRY'], x['Value']]).collect()\n",
    "    result = pd.DataFrame(tmp_list, columns=['ORGNAME', 'ISSUERCOUNTRY', 'Value'])\n",
    "    result = pd.pivot_table(result, index='ORGNAME', columns='ISSUERCOUNTRY', values='Value', fill_value=0).reset_index()\n",
    "    end = time()\n",
    "    print(\"Used time of {:.2f} sec\".format(end - start))\n",
    "    uniq4_time.append(end-start)\n",
    "    #result"
   ]
  },
  {
   "cell_type": "code",
   "execution_count": 15,
   "metadata": {
    "scrolled": false
   },
   "outputs": [
    {
     "name": "stdout",
     "output_type": "stream",
     "text": [
      "Used time of 15.72 sec\n",
      "Used time of 14.96 sec\n",
      "Used time of 15.03 sec\n",
      "Used time of 15.95 sec\n",
      "Used time of 16.26 sec\n",
      "Used time of 15.61 sec\n",
      "Used time of 17.19 sec\n",
      "Used time of 15.83 sec\n",
      "Used time of 15.49 sec\n",
      "Used time of 16.74 sec\n"
     ]
    }
   ],
   "source": [
    "#Calculate the number of unique USERNAME using window function + low level\n",
    "uniq5_time = []\n",
    "for i in range(10):\n",
    "    start = time()\n",
    "    w = Window.partitionBy(['ORGNAME', 'ISSUERCOUNTRY', 'USERNAME']).orderBy('ORGNAME')\n",
    "    df = tmp_df.withColumn('rn', F.row_number().over(w)).filter(F.col('rn') == 1).drop('rn')\n",
    "    tmp_list = df.rdd.map(lambda x: ((x.ORGNAME, x.ISSUERCOUNTRY), 1)).reduceByKey(lambda x,y: x+y) \\\n",
    "                     .map(lambda x: [x[0][0], x[0][1], x[1]]).collect()\n",
    "    result = pd.DataFrame(tmp_list, columns=['ORGNAME', 'ISSUERCOUNTRY', 'Value'])\n",
    "    result = pd.pivot_table(result, index='ORGNAME', columns='ISSUERCOUNTRY', values='Value', fill_value=0).reset_index()\n",
    "    end = time()\n",
    "    print(\"Used time of {:.2f} sec\".format(end - start))\n",
    "    uniq5_time.append(end-start)\n",
    "    #result"
   ]
  },
  {
   "cell_type": "code",
   "execution_count": 16,
   "metadata": {},
   "outputs": [
    {
     "name": "stdout",
     "output_type": "stream",
     "text": [
      "Used time of 25.53 sec\n",
      "Used time of 24.62 sec\n",
      "Used time of 24.69 sec\n",
      "Used time of 24.85 sec\n",
      "Used time of 24.86 sec\n",
      "Used time of 24.43 sec\n",
      "Used time of 24.96 sec\n",
      "Used time of 24.53 sec\n",
      "Used time of 24.73 sec\n",
      "Used time of 24.41 sec\n"
     ]
    }
   ],
   "source": [
    "#Calculate the mean of AMOUNTUSD using high level api\n",
    "mean1_time = []\n",
    "for i in range(10):\n",
    "    start = time()\n",
    "    agg_func = F.mean('AMOUNTUSD')\n",
    "    tmp_list = tmp_df.groupby('ORGNAME').pivot('ISSUERCOUNTRY').agg(agg_func).fillna(0)\n",
    "    columns = tmp_list.columns\n",
    "    tmp_list = tmp_list.rdd.map(list).collect()\n",
    "    result = pd.DataFrame(tmp_list, columns=columns)\n",
    "    end = time()\n",
    "    print(\"Used time of {:.2f} sec\".format(end - start))\n",
    "    mean1_time.append(end-start)\n",
    "    #result"
   ]
  },
  {
   "cell_type": "code",
   "execution_count": 17,
   "metadata": {},
   "outputs": [
    {
     "name": "stdout",
     "output_type": "stream",
     "text": [
      "Used time of 19.31 sec\n",
      "Used time of 19.44 sec\n",
      "Used time of 19.16 sec\n",
      "Used time of 19.11 sec\n",
      "Used time of 19.35 sec\n",
      "Used time of 19.85 sec\n",
      "Used time of 19.44 sec\n",
      "Used time of 19.20 sec\n",
      "Used time of 19.69 sec\n",
      "Used time of 19.78 sec\n"
     ]
    }
   ],
   "source": [
    "#Calculate the mean of AMOUNTUSD using low level api METHOD #1\n",
    "mean2_time = []\n",
    "for i in range(10):\n",
    "    start = time()\n",
    "    tmp_list = tmp_df.rdd.map(lambda x: ((x.ORGNAME, x.ISSUERCOUNTRY), x.AMOUNTUSD)) \\\n",
    "                     .combineByKey(lambda x: [x], lambda x,y: x+[y], lambda x,y: x+y) \\\n",
    "                     .mapValues(lambda x: np.mean(x)).map(lambda x: [x[0][0], x[0][1], x[1]]).collect()\n",
    "    result = pd.DataFrame(tmp_list, columns=['ORGNAME', 'ISSUERCOUNTRY', 'Value'])\n",
    "    result = pd.pivot_table(result, index='ORGNAME', columns='ISSUERCOUNTRY', values='Value', fill_value=0).reset_index()\n",
    "    end = time()\n",
    "    print(\"Used time of {:.2f} sec\".format(end - start))\n",
    "    mean2_time.append(end-start)\n",
    "    #result"
   ]
  },
  {
   "cell_type": "code",
   "execution_count": 18,
   "metadata": {},
   "outputs": [
    {
     "name": "stdout",
     "output_type": "stream",
     "text": [
      "Used time of 14.06 sec\n",
      "Used time of 14.36 sec\n",
      "Used time of 13.57 sec\n",
      "Used time of 14.24 sec\n",
      "Used time of 14.14 sec\n",
      "Used time of 13.81 sec\n",
      "Used time of 13.89 sec\n",
      "Used time of 14.54 sec\n",
      "Used time of 13.91 sec\n",
      "Used time of 13.94 sec\n"
     ]
    }
   ],
   "source": [
    "#Calculate the mean of AMOUNTUSD using low level api METHOD #2\n",
    "mean3_time = []\n",
    "for i in range(10):\n",
    "    start = time()\n",
    "    tmp_list = tmp_df.rdd.map(lambda x: ((x.ORGNAME, x.ISSUERCOUNTRY), [x.AMOUNTUSD, 1])) \\\n",
    "                     .reduceByKey(lambda x,y: [x[0]+y[0], x[1]+y[1]]).mapValues(lambda x: x[0]/x[1]) \\\n",
    "                     .map(lambda x: [x[0][0], x[0][1], x[1]]).collect()\n",
    "    result = pd.DataFrame(tmp_list, columns=['ORGNAME', 'ISSUERCOUNTRY', 'Value'])\n",
    "    result = pd.pivot_table(result, index='ORGNAME', columns='ISSUERCOUNTRY', values='Value', fill_value=0).reset_index()\n",
    "    end = time()\n",
    "    print(\"Used time of {:.2f} sec\".format(end - start))\n",
    "    mean3_time.append(end-start)\n",
    "    #result"
   ]
  },
  {
   "cell_type": "code",
   "execution_count": 19,
   "metadata": {
    "scrolled": false
   },
   "outputs": [
    {
     "name": "stdout",
     "output_type": "stream",
     "text": [
      "Used time of 18.76 sec\n",
      "Used time of 17.50 sec\n",
      "Used time of 18.02 sec\n",
      "Used time of 17.44 sec\n",
      "Used time of 119.30 sec\n",
      "Used time of 21.96 sec\n",
      "Used time of 16.64 sec\n",
      "Used time of 18.32 sec\n",
      "Used time of 18.36 sec\n",
      "Used time of 21.52 sec\n"
     ]
    }
   ],
   "source": [
    "#Calculate the mean of AMOUNTUSD using window function\n",
    "mean4_time = []\n",
    "for i in range(10):\n",
    "    start = time()\n",
    "    w = Window.partitionBy(['ORGNAME', 'ISSUERCOUNTRY']).orderBy('ORGNAME')\n",
    "    df = df.select('ORGNAME', 'ISSUERCOUNTRY', 'AMOUNTUSD').withColumn('Value', F.mean('AMOUNTUSD').over(w.rowsBetween(Window.unboundedPreceding, Window.unboundedFollowing)))\n",
    "    df = df.withColumn('rn', F.row_number().over(w)).filter(F.col('rn') == 1).drop('rn')                      \n",
    "    tmp_list = df.rdd.map(lambda x: [x['ORGNAME'], x['ISSUERCOUNTRY'], x['Value']]).collect()\n",
    "    result = pd.DataFrame(tmp_list, columns=['ORGNAME', 'ISSUERCOUNTRY', 'Value'])\n",
    "    result = pd.pivot_table(result, index='ORGNAME', columns='ISSUERCOUNTRY', values='Value', fill_value=0).reset_index()\n",
    "    end = time()\n",
    "    print(\"Used time of {:.2f} sec\".format(end - start))\n",
    "    mean4_time.append(end-start)\n",
    "    #result"
   ]
  },
  {
   "cell_type": "code",
   "execution_count": 20,
   "metadata": {},
   "outputs": [
    {
     "name": "stdout",
     "output_type": "stream",
     "text": [
      "Used time of 16.49 sec\n",
      "Used time of 16.51 sec\n",
      "Used time of 18.30 sec\n",
      "Used time of 16.70 sec\n",
      "Used time of 17.24 sec\n",
      "Used time of 18.09 sec\n",
      "Used time of 28.65 sec\n",
      "Used time of 18.06 sec\n",
      "Used time of 16.79 sec\n",
      "Used time of 16.32 sec\n"
     ]
    }
   ],
   "source": [
    "#Calculate the mean of AMOUNTUSD using window function + low level\n",
    "mean5_time = []\n",
    "for i in range(10):\n",
    "    start = time()\n",
    "    w = Window.partitionBy(['ORGNAME', 'ISSUERCOUNTRY']).orderBy('ORGNAME')\n",
    "    df = df.select('ORGNAME', 'ISSUERCOUNTRY', 'AMOUNTUSD').withColumn('Value', F.mean('AMOUNTUSD').over(w.rowsBetween(Window.unboundedPreceding, Window.unboundedFollowing)))\n",
    "    tmp_list = df.rdd.map(lambda x: ((x['ORGNAME'], x['ISSUERCOUNTRY'], x['Value']), 1)).reduceByKey(lambda x,y: 1) \\\n",
    "                     .map(lambda x: [x[0][0], x[0][1], x[0][2]]).collect()\n",
    "    result = pd.DataFrame(tmp_list, columns=['ORGNAME', 'ISSUERCOUNTRY', 'Value'])\n",
    "    result = pd.pivot_table(result, index='ORGNAME', columns='ISSUERCOUNTRY', values='Value', fill_value=0).reset_index()\n",
    "    end = time()\n",
    "    print(\"Used time of {:.2f} sec\".format(end - start))\n",
    "    mean5_time.append(end-start)\n",
    "    #result"
   ]
  },
  {
   "cell_type": "code",
   "execution_count": 21,
   "metadata": {},
   "outputs": [
    {
     "name": "stdout",
     "output_type": "stream",
     "text": [
      "Used time of 25.10 sec\n",
      "Used time of 24.46 sec\n",
      "Used time of 24.79 sec\n",
      "Used time of 24.78 sec\n",
      "Used time of 24.57 sec\n",
      "Used time of 23.94 sec\n",
      "Used time of 24.73 sec\n",
      "Used time of 24.71 sec\n",
      "Used time of 24.48 sec\n",
      "Used time of 25.08 sec\n"
     ]
    }
   ],
   "source": [
    "#Calculate the stddev of AMOUNTUSD using high level api\n",
    "std1_time = []\n",
    "for i in range(10):\n",
    "    start = time()\n",
    "    agg_func = F.stddev('AMOUNTUSD')\n",
    "    tmp_list = tmp_df.groupby('ORGNAME').pivot('ISSUERCOUNTRY').agg(agg_func).fillna(0)\n",
    "    columns = tmp_list.columns\n",
    "    tmp_list = tmp_list.rdd.map(list).collect()\n",
    "    result = pd.DataFrame(tmp_list, columns=columns)\n",
    "    end = time()\n",
    "    print(\"Used time of {:.2f} sec\".format(end - start))\n",
    "    std1_time.append(end-start)\n",
    "    #result"
   ]
  },
  {
   "cell_type": "code",
   "execution_count": 22,
   "metadata": {},
   "outputs": [
    {
     "name": "stdout",
     "output_type": "stream",
     "text": [
      "Used time of 19.29 sec\n",
      "Used time of 19.76 sec\n",
      "Used time of 19.77 sec\n",
      "Used time of 19.93 sec\n",
      "Used time of 19.52 sec\n",
      "Used time of 19.85 sec\n",
      "Used time of 19.82 sec\n",
      "Used time of 19.36 sec\n",
      "Used time of 20.02 sec\n",
      "Used time of 19.42 sec\n"
     ]
    }
   ],
   "source": [
    "#Calculate the stddev of AMOUNTUSD using low level api\n",
    "std2_time = []\n",
    "for i in range(10):\n",
    "    start = time()\n",
    "    tmp_list = tmp_df.rdd.map(lambda x: ((x.ORGNAME, x.ISSUERCOUNTRY), x.AMOUNTUSD)) \\\n",
    "                     .combineByKey(lambda x: [x], lambda x,y: x+[y], lambda x,y: x+y) \\\n",
    "                     .mapValues(lambda x: np.std(x)).map(lambda x: [x[0][0], x[0][1], x[1]]).collect()\n",
    "    result = pd.DataFrame(tmp_list, columns=['ORGNAME', 'ISSUERCOUNTRY', 'Value'])\n",
    "    result = pd.pivot_table(result, index='ORGNAME', columns='ISSUERCOUNTRY', values='Value', fill_value=0).reset_index()\n",
    "    end = time()\n",
    "    print(\"Used time of {:.2f} sec\".format(end - start))\n",
    "    std2_time.append(end-start)\n",
    "    #result"
   ]
  },
  {
   "cell_type": "code",
   "execution_count": 23,
   "metadata": {
    "scrolled": false
   },
   "outputs": [
    {
     "name": "stdout",
     "output_type": "stream",
     "text": [
      "Used time of 18.33 sec\n",
      "Used time of 16.36 sec\n",
      "Used time of 16.54 sec\n",
      "Used time of 18.78 sec\n",
      "Used time of 15.97 sec\n",
      "Used time of 17.89 sec\n",
      "Used time of 67.22 sec\n",
      "Used time of 18.00 sec\n",
      "Used time of 17.71 sec\n",
      "Used time of 21.21 sec\n"
     ]
    }
   ],
   "source": [
    "#Calculate the stdev of AMOUNTUSD using window function\n",
    "std3_time = []\n",
    "for i in range(10):\n",
    "    start = time()\n",
    "    w = Window.partitionBy(['ORGNAME', 'ISSUERCOUNTRY']).orderBy('ORGNAME')\n",
    "    df = df.select('ORGNAME', 'ISSUERCOUNTRY', 'AMOUNTUSD').withColumn('Value', F.stddev('AMOUNTUSD').over(w.rowsBetween(Window.unboundedPreceding, Window.unboundedFollowing)))\n",
    "    df = df.withColumn('rn', F.row_number().over(w)).filter(F.col('rn') == 1).drop('rn')                      \n",
    "    tmp_list = df.rdd.map(lambda x: [x['ORGNAME'], x['ISSUERCOUNTRY'], x['Value']]).collect()\n",
    "    result = pd.DataFrame(tmp_list, columns=['ORGNAME', 'ISSUERCOUNTRY', 'Value'])\n",
    "    result = pd.pivot_table(result, index='ORGNAME', columns='ISSUERCOUNTRY', values='Value', fill_value=0).reset_index()\n",
    "    end = time()\n",
    "    print(\"Used time of {:.2f} sec\".format(end - start))\n",
    "    std3_time.append(end-start)\n",
    "    #result"
   ]
  },
  {
   "cell_type": "code",
   "execution_count": 24,
   "metadata": {},
   "outputs": [
    {
     "name": "stdout",
     "output_type": "stream",
     "text": [
      "Used time of 16.79 sec\n",
      "Used time of 18.30 sec\n",
      "Used time of 18.02 sec\n",
      "Used time of 21.76 sec\n",
      "Used time of 18.91 sec\n",
      "Used time of 18.14 sec\n",
      "Used time of 21.83 sec\n",
      "Used time of 18.16 sec\n",
      "Used time of 16.70 sec\n",
      "Used time of 17.03 sec\n"
     ]
    }
   ],
   "source": [
    "#Calculate the mean of AMOUNTUSD using window function + low level\n",
    "std4_time = []\n",
    "for i in range(10):\n",
    "    start = time()\n",
    "    w = Window.partitionBy(['ORGNAME', 'ISSUERCOUNTRY']).orderBy('ORGNAME')\n",
    "    df = df.select('ORGNAME', 'ISSUERCOUNTRY', 'AMOUNTUSD').withColumn('Value', F.stddev('AMOUNTUSD').over(w.rowsBetween(Window.unboundedPreceding, Window.unboundedFollowing)))\n",
    "    tmp_list = df.rdd.map(lambda x: ((x['ORGNAME'], x['ISSUERCOUNTRY'], x['Value']), 1)).reduceByKey(lambda x,y: 1) \\\n",
    "                     .map(lambda x: [x[0][0], x[0][1], x[0][2]]).collect()\n",
    "    result = pd.DataFrame(tmp_list, columns=['ORGNAME', 'ISSUERCOUNTRY', 'Value'])\n",
    "    result = pd.pivot_table(result, index='ORGNAME', columns='ISSUERCOUNTRY', values='Value', fill_value=0).reset_index()\n",
    "    end = time()\n",
    "    print(\"Used time of {:.2f} sec\".format(end - start))\n",
    "    std4_time.append(end-start)\n",
    "    #result"
   ]
  },
  {
   "cell_type": "code",
   "execution_count": 27,
   "metadata": {},
   "outputs": [
    {
     "data": {
      "image/png": "[encoded data removed]",
      "text/plain": [
       "<Figure size 432x288 with 1 Axes>"
      ]
     },
     "metadata": {},
     "output_type": "display_data"
    }
   ],
   "source": [
    "plt.plot(range(10), med1_time, 'r', label='High level')\n",
    "plt.plot(range(10), med2_time, 'g', label='Low level')\n",
    "plt.plot(range(10), med3_time, 'b', label='Window func')\n",
    "plt.plot(range(10), med4_time, 'k--', label='Window + low')\n",
    "plt.title('MEDIAN')\n",
    "plt.legend()\n",
    "plt.show()"
   ]
  },
  {
   "cell_type": "code",
   "execution_count": 28,
   "metadata": {},
   "outputs": [
    {
     "data": {
      "image/png": "[encoded data removed]",
      "text/plain": [
       "<Figure size 432x288 with 1 Axes>"
      ]
     },
     "metadata": {},
     "output_type": "display_data"
    }
   ],
   "source": [
    "plt.plot(range(10), uniq1_time, 'r', label='High level')\n",
    "plt.plot(range(10), uniq2_time, 'g', label='Low level - combine')\n",
    "plt.plot(range(10), uniq3_time, 'b--', label='Low level - plain')\n",
    "plt.plot(range(10), uniq4_time, 'k', label='Window func')\n",
    "plt.plot(range(10), uniq5_time, 'c--', label='Window + Low')\n",
    "plt.title('UNIQUE COUNT')\n",
    "plt.legend()\n",
    "plt.show()"
   ]
  },
  {
   "cell_type": "code",
   "execution_count": 29,
   "metadata": {},
   "outputs": [
    {
     "data": {
      "image/png": "[encoded data removed]",
      "text/plain": [
       "<Figure size 432x288 with 1 Axes>"
      ]
     },
     "metadata": {},
     "output_type": "display_data"
    }
   ],
   "source": [
    "plt.plot(range(10), mean1_time, 'r', label='High level')\n",
    "plt.plot(range(10), mean2_time, 'g', label='Low level - combine')\n",
    "plt.plot(range(10), mean3_time, 'b--', label='Low level - plain')\n",
    "plt.plot(range(10), mean4_time, 'k', label='Window func')\n",
    "plt.plot(range(10), mean5_time, 'c--', label='Window + Low')\n",
    "plt.title('MEAN')\n",
    "plt.legend()\n",
    "plt.show()"
   ]
  },
  {
   "cell_type": "code",
   "execution_count": 30,
   "metadata": {},
   "outputs": [
    {
     "data": {
      "image/png": "[encoded data removed]",
      "text/plain": [
       "<Figure size 432x288 with 1 Axes>"
      ]
     },
     "metadata": {},
     "output_type": "display_data"
    }
   ],
   "source": [
    "plt.plot(range(10), std1_time, 'r', label='High level')\n",
    "plt.plot(range(10), std2_time, 'g', label='Low level')\n",
    "plt.plot(range(10), std3_time, 'b--', label='Window func')\n",
    "plt.plot(range(10), std4_time, 'k', label='Window + Low')\n",
    "plt.title('STDDEV')\n",
    "plt.legend()\n",
    "plt.show()"
   ]
  },
  {
   "cell_type": "code",
   "execution_count": null,
   "metadata": {},
   "outputs": [],
   "source": [
    "spark.stop()"
   ]
  }
 ],
 "metadata": {
  "kernelspec": {
   "display_name": "Python 3",
   "language": "python",
   "name": "python3"
  },
  "language_info": {
   "codemirror_mode": {
    "name": "ipython",
    "version": 3
   },
   "file_extension": ".py",
   "mimetype": "text/x-python",
   "name": "python",
   "nbconvert_exporter": "python",
   "pygments_lexer": "ipython3",
   "version": "3.6.5"
  }
 },
 "nbformat": 4,
 "nbformat_minor": 2
}
